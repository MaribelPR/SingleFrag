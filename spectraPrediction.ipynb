{
 "cells": [
  {
   "cell_type": "markdown",
   "id": "f70a6834",
   "metadata": {},
   "source": [
    "# Mol2vec embbeding and spectra prediction of input molecules"
   ]
  },
  {
   "cell_type": "markdown",
   "id": "96e560a0",
   "metadata": {},
   "source": [
    "LIBRARIES"
   ]
  },
  {
   "cell_type": "code",
   "execution_count": 1,
   "id": "3f15300a",
   "metadata": {
    "scrolled": true
   },
   "outputs": [
    {
     "name": "stdout",
     "output_type": "stream",
     "text": [
      "Using cpu device\n"
     ]
    }
   ],
   "source": [
    "import os\n",
    "import numpy as np\n",
    "import pandas as pd\n",
    "import pickle\n",
    "import math\n",
    "import glob\n",
    "import re\n",
    "import random\n",
    "\n",
    "import matplotlib.pyplot as plt\n",
    "import seaborn as sns\n",
    "sns.set(style='ticks', font_scale=1.5)\n",
    "\n",
    "import warnings\n",
    "warnings.filterwarnings(\"ignore\")\n",
    "\n",
    "import torch\n",
    "from torch import nn\n",
    "from torch.utils.data import TensorDataset, Dataset, DataLoader\n",
    "import torchvision\n",
    "\n",
    "\n",
    "#DEVICE = 'cuda' if torch.cuda.is_available() else 'cpu'\n",
    "DEVICE = 'cpu'\n",
    "print(f'Using {DEVICE} device')\n",
    "\n",
    "#Importing Chem module\n",
    "from rdkit import Chem \n",
    "from rdkit import DataStructs\n",
    "import gensim\n",
    "from mol2vec.features import mol2alt_sentence, mol2sentence, MolSentence, DfVec, sentences2vec\n",
    "from gensim.models import word2vec\n",
    "from gensim.models.callbacks import CallbackAny2Vec"
   ]
  },
  {
   "cell_type": "markdown",
   "id": "b58ccad3",
   "metadata": {},
   "source": [
    "## 0. GENERAL DATA"
   ]
  },
  {
   "cell_type": "markdown",
   "id": "1b71d6f9-c4a1-4d34-a57e-a2e391e95f40",
   "metadata": {},
   "source": [
    "Molecules to be predicted"
   ]
  },
  {
   "cell_type": "code",
   "execution_count": 2,
   "id": "a5664087-dea9-47c4-8894-ae27093bd076",
   "metadata": {},
   "outputs": [
    {
     "name": "stdout",
     "output_type": "stream",
     "text": [
      "          smiles                name  \\\n",
      "0  CCC(=O)C(O)=O  2-Ketobutyric acid   \n",
      "\n",
      "                                            spectrum  \\\n",
      "0  [27.0, 28.0, 29.0, 30.0, 31.0, 39.0, 40.0, 41....   \n",
      "\n",
      "                                    link  \n",
      "0  https://hmdb.ca/spectra/ms_ms/1473314  \n"
     ]
    }
   ],
   "source": [
    "file_input_mols = 'data/inputMols_git.xlsx'\n",
    "dfMolecules = pd.read_excel(file_input_mols)\n",
    "print(dfMolecules)"
   ]
  },
  {
   "cell_type": "markdown",
   "id": "4f319946-ed14-4cc5-8494-54800d2cb15d",
   "metadata": {},
   "source": [
    "Most frequented positions in the training dataset"
   ]
  },
  {
   "cell_type": "code",
   "execution_count": 3,
   "id": "28a0b59a",
   "metadata": {},
   "outputs": [],
   "source": [
    "#M/Z positions where we have models\n",
    "pickle_in=open(\"data/modelData/AllMostFreqMolGeneral_rep_dades1.pickle\", \"rb\")\n",
    "dfMostFreq100=pickle.load(pickle_in)"
   ]
  },
  {
   "cell_type": "code",
   "execution_count": 4,
   "id": "33c20ff0",
   "metadata": {},
   "outputs": [],
   "source": [
    "#First 1000 m/z positions more frequented by peaks\n",
    "posPeak1000=dfMostFreq100[0:1000].posPeak.tolist()"
   ]
  },
  {
   "cell_type": "markdown",
   "id": "a672f5c1",
   "metadata": {},
   "source": [
    "Mol2vec embedding model and functions"
   ]
  },
  {
   "cell_type": "code",
   "execution_count": 5,
   "id": "b03b39ef",
   "metadata": {},
   "outputs": [],
   "source": [
    "#Mol2vec model uploading\n",
    "model = word2vec.Word2Vec.load('data/Mol2vecModel/Mol2vecModelGeneral_rep_dades1.model')"
   ]
  },
  {
   "cell_type": "code",
   "execution_count": 6,
   "id": "12bce1e2",
   "metadata": {},
   "outputs": [],
   "source": [
    "def finalVector(df_smiles_column):\n",
    "    \n",
    "    #Embedding dataframe\n",
    "    dfSmilesEmb = pd.DataFrame()\n",
    "    \n",
    "    #Save the smiles\n",
    "    print(\"step 1\")\n",
    "    dfSmilesEmb['smiles'] = df_smiles_column\n",
    "    \n",
    "    #Constructing sentences\n",
    "    dfSmilesEmb['mol'] = df_smiles_column.apply(lambda x: Chem.MolFromSmiles(x)) \n",
    "    naMols = []\n",
    "    for c,mol in enumerate(dfSmilesEmb.mol):\n",
    "        if((mol == None)):\n",
    "            naMols += [c]\n",
    "    dfSmilesEmb = dfSmilesEmb.drop(dfSmilesEmb.index[naMols])\n",
    "    dfSmilesEmb.reset_index(inplace=True, drop=True)\n",
    "    \n",
    "    print(\"step 2\")\n",
    "    col2 = dfSmilesEmb['mol'].copy()\n",
    "    dfSmilesEmb['sentence'] = col2\n",
    "    for count, value in enumerate(dfSmilesEmb['mol']):\n",
    "        if value == None:\n",
    "            dfSmilesEmb['sentence'][count]= None\n",
    "        else:\n",
    "            try:\n",
    "                dfSmilesEmb['sentence'][count] = MolSentence(mol2alt_sentence(value, radius=1))\n",
    "            except:\n",
    "                dfSmilesEmb['sentence'][count] = None\n",
    "    \n",
    "    #DELETE THE MOLECULES THAT HAVE A \"sentence\"== None\n",
    "    naMols = []\n",
    "    for c,sentence in enumerate(dfSmilesEmb.sentence):\n",
    "        if((sentence == None)):\n",
    "            naMols += [c]\n",
    "            \n",
    "    dfSmilesEmb = dfSmilesEmb.drop(dfSmilesEmb.index[naMols])\n",
    "    dfSmilesEmb.reset_index(inplace=True, drop=True)\n",
    "\n",
    "    #Extracting embeddings to a numpy.array\n",
    "    print(\"step 3\")\n",
    "    col2 = dfSmilesEmb['sentence'].copy()\n",
    "    dfSmilesEmb['mol2vec'] = col2\n",
    "    for c,x in enumerate(sentences2vec(dfSmilesEmb['sentence'], model)):\n",
    "        if (type(x) != int):\n",
    "            try:\n",
    "                dfSmilesEmb['mol2vec'][c] = DfVec(x)\n",
    "            except:\n",
    "                dfSmilesEmb['mol2vec'][c] = None\n",
    "        else:\n",
    "            dfSmilesEmb['mol2vec'][c] = None\n",
    "            \n",
    "    naMols = []\n",
    "    for c,sentence in enumerate(dfSmilesEmb.mol2vec):\n",
    "        if((sentence == None)):\n",
    "            naMols += [c]\n",
    "            \n",
    "    dfSmilesEmb = dfSmilesEmb.drop(dfSmilesEmb.index[naMols])\n",
    "    dfSmilesEmb.reset_index(inplace=True, drop=True)\n",
    "    \n",
    "    print(\"step 4\")\n",
    "    Molvectors = np.array([x.vec for x in dfSmilesEmb['mol2vec']])\n",
    "    \n",
    "    #Add the results to the dataframe\n",
    "    print(\"step 5\")\n",
    "    dfSmilesEmb['FinalVec']=list(Molvectors)\n",
    "    \n",
    "    return dfSmilesEmb"
   ]
  },
  {
   "cell_type": "markdown",
   "id": "d40f3559",
   "metadata": {},
   "source": [
    "Models for peak prediction"
   ]
  },
  {
   "cell_type": "code",
   "execution_count": 7,
   "id": "316b84a5",
   "metadata": {},
   "outputs": [],
   "source": [
    "BS = 16 \n",
    "DEVICE = 'cpu'"
   ]
  },
  {
   "cell_type": "code",
   "execution_count": 8,
   "id": "9132716d",
   "metadata": {},
   "outputs": [],
   "source": [
    "# ANN\n",
    "# The feedforward network class\n",
    "class MLP(nn.Module):\n",
    "    def __init__(self):\n",
    "        super(MLP, self).__init__()\n",
    "        self.linear_relu_stack = nn.Sequential(\n",
    "            nn.Linear(300, 300),\n",
    "            nn.ReLU(),\n",
    "            nn.Linear(300, 300),\n",
    "            nn.ReLU(),\n",
    "            nn.Linear(300, 1),\n",
    "            nn.Sigmoid(),\n",
    "        )\n",
    "\n",
    "    def forward(self, x):\n",
    "        return self.linear_relu_stack(x)"
   ]
  },
  {
   "cell_type": "code",
   "execution_count": 9,
   "id": "83333ca3",
   "metadata": {},
   "outputs": [],
   "source": [
    "# DATALOADER\n",
    "def load_dataTest(datafr, device=DEVICE, bs=BS):\n",
    "    \n",
    "    vx1 = datafr.to_numpy() #convert dataframe column as a numpy type\n",
    "    vx2 = np.vstack(vx1).astype(np.float32) #convert objects to numpy type from objecr to float\n",
    "\n",
    "    # Validation set\n",
    "    ds = TensorDataset(torch.from_numpy(vx2))\n",
    "    test_dataloader = DataLoader(ds, batch_size=bs)\n",
    "    return test_dataloader "
   ]
  },
  {
   "cell_type": "code",
   "execution_count": 10,
   "id": "08228143",
   "metadata": {},
   "outputs": [],
   "source": [
    "#Threshold to determine peak for each model\n",
    "pickle_in=open(\"data/modelData/thresholdsANN.pickle\", \"rb\")\n",
    "dfThresholdVal=pickle.load(pickle_in)"
   ]
  },
  {
   "cell_type": "code",
   "execution_count": 11,
   "id": "98e96e71",
   "metadata": {},
   "outputs": [],
   "source": [
    "#Open the ANN models\n",
    "pickle_models = glob.glob('data/ANN/ModelVal*.pickle')"
   ]
  },
  {
   "cell_type": "markdown",
   "id": "74a7c729",
   "metadata": {},
   "source": [
    "Peak prediction function"
   ]
  },
  {
   "cell_type": "code",
   "execution_count": 12,
   "id": "d2eee06e",
   "metadata": {},
   "outputs": [],
   "source": [
    "def mz_calculation2(dfThresholdVal, mz, dfResultsTest, moleculesDB):\n",
    "\n",
    "    #Open the model threshold to decide peaks\n",
    "    th2Final = float(dfThresholdVal.th[dfThresholdVal.mzPosition==mz])\n",
    "    #Condition to add in the mz list the peak for the molecules that have a higher prediction\n",
    "    peak_smiles = dfResultsTest.smiles[dfResultsTest[\"Prediction\"]>=th2Final].tolist()\n",
    "    #Index of the molecules that have this peak\n",
    "    indexes_smiles = moleculesDB.index[moleculesDB.smiles.isin(peak_smiles)]\n",
    "    for mol_val in indexes_smiles:\n",
    "        moleculesDB['mz'][mol_val].append(mz)\n",
    "        \n",
    "    return moleculesDB"
   ]
  },
  {
   "cell_type": "markdown",
   "id": "c64a14e1",
   "metadata": {},
   "source": [
    "## 1. EMBEDDING CALCULATION OF PREVIOUS DATA"
   ]
  },
  {
   "cell_type": "code",
   "execution_count": 13,
   "id": "28ab5ad3-0492-4da7-b063-6df1a5daa6c0",
   "metadata": {},
   "outputs": [
    {
     "data": {
      "text/html": [
       "<div>\n",
       "<style scoped>\n",
       "    .dataframe tbody tr th:only-of-type {\n",
       "        vertical-align: middle;\n",
       "    }\n",
       "\n",
       "    .dataframe tbody tr th {\n",
       "        vertical-align: top;\n",
       "    }\n",
       "\n",
       "    .dataframe thead th {\n",
       "        text-align: right;\n",
       "    }\n",
       "</style>\n",
       "<table border=\"1\" class=\"dataframe\">\n",
       "  <thead>\n",
       "    <tr style=\"text-align: right;\">\n",
       "      <th></th>\n",
       "      <th>smiles</th>\n",
       "      <th>name</th>\n",
       "      <th>spectrum</th>\n",
       "      <th>link</th>\n",
       "    </tr>\n",
       "  </thead>\n",
       "  <tbody>\n",
       "    <tr>\n",
       "      <th>0</th>\n",
       "      <td>CCC(=O)C(O)=O</td>\n",
       "      <td>2-Ketobutyric acid</td>\n",
       "      <td>[27.0, 28.0, 29.0, 30.0, 31.0, 39.0, 40.0, 41....</td>\n",
       "      <td>https://hmdb.ca/spectra/ms_ms/1473314</td>\n",
       "    </tr>\n",
       "  </tbody>\n",
       "</table>\n",
       "</div>"
      ],
      "text/plain": [
       "          smiles                name  \\\n",
       "0  CCC(=O)C(O)=O  2-Ketobutyric acid   \n",
       "\n",
       "                                            spectrum  \\\n",
       "0  [27.0, 28.0, 29.0, 30.0, 31.0, 39.0, 40.0, 41....   \n",
       "\n",
       "                                    link  \n",
       "0  https://hmdb.ca/spectra/ms_ms/1473314  "
      ]
     },
     "execution_count": 13,
     "metadata": {},
     "output_type": "execute_result"
    }
   ],
   "source": [
    "dfMolecules.head(1)"
   ]
  },
  {
   "cell_type": "markdown",
   "id": "f54dd077-0f05-47e2-aa7b-525e38cc81d4",
   "metadata": {},
   "source": [
    "In case the input data set is very large, we have to divide it into smaller sets"
   ]
  },
  {
   "cell_type": "code",
   "execution_count": 3,
   "id": "5fc70c50",
   "metadata": {},
   "outputs": [],
   "source": [
    "#divide the dataset of molecules\n",
    "# listDF = range(0, len(dfMolecules[\"smile\"]), 100000)\n",
    "# listDF = list(listDF)\n",
    "# listDF = listDF + [len(dfMolecules[\"smile\"])]"
   ]
  },
  {
   "cell_type": "code",
   "execution_count": null,
   "id": "9b991878",
   "metadata": {},
   "outputs": [],
   "source": [
    "#Select the range of molecules we sould like to compute\n",
    "# dfMolecules = dfMolecules.iloc[posCount, posCount + 100000]"
   ]
  },
  {
   "cell_type": "markdown",
   "id": "98f9f3eb",
   "metadata": {},
   "source": [
    "Calculation of the Mol2vec embedding:"
   ]
  },
  {
   "cell_type": "code",
   "execution_count": 14,
   "id": "c460668d",
   "metadata": {},
   "outputs": [
    {
     "name": "stdout",
     "output_type": "stream",
     "text": [
      "step 1\n",
      "step 2\n",
      "step 3\n",
      "step 4\n",
      "step 5\n"
     ]
    }
   ],
   "source": [
    "datafr = dfMolecules.smiles #INPUT DATA (insert the smiles column of the dataframe)\n",
    "dataTestR = finalVector(datafr) #EMBEDDING = dataTestR[\"FinalVec\"]"
   ]
  },
  {
   "cell_type": "markdown",
   "id": "ab60795b",
   "metadata": {},
   "source": [
    "Save in the previous dataframe the new Mol2vec embedding:"
   ]
  },
  {
   "cell_type": "code",
   "execution_count": 15,
   "id": "687fb91d-4765-4f5b-9684-bd436107332c",
   "metadata": {},
   "outputs": [
    {
     "data": {
      "text/html": [
       "<div>\n",
       "<style scoped>\n",
       "    .dataframe tbody tr th:only-of-type {\n",
       "        vertical-align: middle;\n",
       "    }\n",
       "\n",
       "    .dataframe tbody tr th {\n",
       "        vertical-align: top;\n",
       "    }\n",
       "\n",
       "    .dataframe thead th {\n",
       "        text-align: right;\n",
       "    }\n",
       "</style>\n",
       "<table border=\"1\" class=\"dataframe\">\n",
       "  <thead>\n",
       "    <tr style=\"text-align: right;\">\n",
       "      <th></th>\n",
       "      <th>smiles</th>\n",
       "      <th>mol</th>\n",
       "      <th>sentence</th>\n",
       "      <th>mol2vec</th>\n",
       "      <th>FinalVec</th>\n",
       "    </tr>\n",
       "  </thead>\n",
       "  <tbody>\n",
       "    <tr>\n",
       "      <th>0</th>\n",
       "      <td>CCC(=O)C(O)=O</td>\n",
       "      <td>&lt;img data-content=\"rdkit/molecule\" src=\"data:i...</td>\n",
       "      <td>(2246728737, 3542456614, 2245384272, 206478835...</td>\n",
       "      <td>(300,) dimensional vector</td>\n",
       "      <td>[-0.7609567642211914, -0.1555800437927246, -1....</td>\n",
       "    </tr>\n",
       "  </tbody>\n",
       "</table>\n",
       "</div>"
      ],
      "text/plain": [
       "          smiles                                                mol  \\\n",
       "0  CCC(=O)C(O)=O  <img data-content=\"rdkit/molecule\" src=\"data:i...   \n",
       "\n",
       "                                            sentence  \\\n",
       "0  (2246728737, 3542456614, 2245384272, 206478835...   \n",
       "\n",
       "                     mol2vec  \\\n",
       "0  (300,) dimensional vector   \n",
       "\n",
       "                                            FinalVec  \n",
       "0  [-0.7609567642211914, -0.1555800437927246, -1....  "
      ]
     },
     "execution_count": 15,
     "metadata": {},
     "output_type": "execute_result"
    }
   ],
   "source": [
    "dataTestR.head(1)"
   ]
  },
  {
   "cell_type": "code",
   "execution_count": 16,
   "id": "bca65c14-71e5-400f-8290-97728b5cf0c6",
   "metadata": {},
   "outputs": [
    {
     "data": {
      "text/html": [
       "<div>\n",
       "<style scoped>\n",
       "    .dataframe tbody tr th:only-of-type {\n",
       "        vertical-align: middle;\n",
       "    }\n",
       "\n",
       "    .dataframe tbody tr th {\n",
       "        vertical-align: top;\n",
       "    }\n",
       "\n",
       "    .dataframe thead th {\n",
       "        text-align: right;\n",
       "    }\n",
       "</style>\n",
       "<table border=\"1\" class=\"dataframe\">\n",
       "  <thead>\n",
       "    <tr style=\"text-align: right;\">\n",
       "      <th></th>\n",
       "      <th>smiles</th>\n",
       "      <th>name</th>\n",
       "      <th>spectrum</th>\n",
       "      <th>link</th>\n",
       "    </tr>\n",
       "  </thead>\n",
       "  <tbody>\n",
       "    <tr>\n",
       "      <th>0</th>\n",
       "      <td>CCC(=O)C(O)=O</td>\n",
       "      <td>2-Ketobutyric acid</td>\n",
       "      <td>[27.0, 28.0, 29.0, 30.0, 31.0, 39.0, 40.0, 41....</td>\n",
       "      <td>https://hmdb.ca/spectra/ms_ms/1473314</td>\n",
       "    </tr>\n",
       "  </tbody>\n",
       "</table>\n",
       "</div>"
      ],
      "text/plain": [
       "          smiles                name  \\\n",
       "0  CCC(=O)C(O)=O  2-Ketobutyric acid   \n",
       "\n",
       "                                            spectrum  \\\n",
       "0  [27.0, 28.0, 29.0, 30.0, 31.0, 39.0, 40.0, 41....   \n",
       "\n",
       "                                    link  \n",
       "0  https://hmdb.ca/spectra/ms_ms/1473314  "
      ]
     },
     "execution_count": 16,
     "metadata": {},
     "output_type": "execute_result"
    }
   ],
   "source": [
    "dfMolecules.head(1)"
   ]
  },
  {
   "cell_type": "code",
   "execution_count": 17,
   "id": "fc187c3e",
   "metadata": {},
   "outputs": [],
   "source": [
    "dfMolecules = dfMolecules.merge(dataTestR, how='inner', on='smiles')\n",
    "dfMolecules = dfMolecules.drop(columns=['mol', 'sentence', 'mol2vec'])"
   ]
  },
  {
   "cell_type": "markdown",
   "id": "52b7213c",
   "metadata": {},
   "source": [
    "Calculate the spectra prediction:"
   ]
  },
  {
   "cell_type": "code",
   "execution_count": 18,
   "id": "fc9b2d50",
   "metadata": {
    "scrolled": true
   },
   "outputs": [],
   "source": [
    "#create a dataframe to put the results\n",
    "dfResultsTest = pd.DataFrame() \n",
    "\n",
    "#Data set with the results\n",
    "dataEmb = dfMolecules.FinalVec\n",
    "\n",
    "for cp, peak in enumerate(pickle_models): \n",
    "\n",
    "    dfPeakPreds = pd.DataFrame() \n",
    "    position = []\n",
    "    zeros = []\n",
    "\n",
    "    #mz:\n",
    "    namePickle = peak\n",
    "    namePickle = re.sub(\"data/ANN/ModelVal\",\"\",namePickle)\n",
    "    namePickle = re.sub(\".pickle\",\"\",namePickle)\n",
    "    mz = int(namePickle)\n",
    "\n",
    "    if mz in posPeak1000: #in 1000 most common positions\n",
    "\n",
    "        zeros += [mz]\n",
    "        position += [mz]\n",
    "\n",
    "        #Open pickle models\n",
    "        pickle_in = open(peak, \"rb\")\n",
    "        model = pickle.load(pickle_in) #dataframe for one mz position\n",
    "\n",
    "        test_dataloader = load_dataTest(datafr = dataEmb)\n",
    "        pred_test = model(test_dataloader.dataset.tensors[0].to(DEVICE))\n",
    "        pred = pred_test.cpu().detach().numpy()\n",
    "        dfResultsTest[\"Prediction\"] = pred.tolist()\n",
    "        \n",
    "        #Loop to save the prediction\n",
    "        for cont, i in enumerate(dfResultsTest[\"Prediction\"]):\n",
    "            p= str(i)[1:-1] #take off the brakets \n",
    "            dfResultsTest[\"Prediction\"][cont]=float(p)\n",
    "\n",
    "        #Save the smiles per predictions\n",
    "        dfResultsTest[\"smiles\"] = dfMolecules.smiles\n",
    "\n",
    "        #Save the predictions per peak in a pickle:\n",
    "        pickle_out=open(\"results/dfPredictionPeak_{}.pickle\".format(mz), \"wb\")\n",
    "        pickle.dump(dataTestR, pickle_out)\n",
    "        pickle_out.close()\n",
    "\n",
    "    #Initialization of an empty dataframe with canonical smiles to save the peaks\n",
    "    if (cp == 0):\n",
    "        moleculesDB = pd.DataFrame()\n",
    "        moleculesDB[\"smiles\"] = dfMolecules.smiles\n",
    "        #Addition of an empty column for the spectra\n",
    "        moleculesDB['mz'] = np.empty((len(moleculesDB), 0)).tolist()\n",
    "\n",
    "    #MZ function calculation\n",
    "    moleculesDB = mz_calculation2(dfThresholdVal, mz, dfResultsTest, moleculesDB)"
   ]
  },
  {
   "cell_type": "code",
   "execution_count": 19,
   "id": "18c4b643-ba8a-4a92-9513-51ccb78f94e4",
   "metadata": {},
   "outputs": [
    {
     "data": {
      "text/html": [
       "<div>\n",
       "<style scoped>\n",
       "    .dataframe tbody tr th:only-of-type {\n",
       "        vertical-align: middle;\n",
       "    }\n",
       "\n",
       "    .dataframe tbody tr th {\n",
       "        vertical-align: top;\n",
       "    }\n",
       "\n",
       "    .dataframe thead th {\n",
       "        text-align: right;\n",
       "    }\n",
       "</style>\n",
       "<table border=\"1\" class=\"dataframe\">\n",
       "  <thead>\n",
       "    <tr style=\"text-align: right;\">\n",
       "      <th></th>\n",
       "      <th>smiles</th>\n",
       "      <th>mz</th>\n",
       "    </tr>\n",
       "  </thead>\n",
       "  <tbody>\n",
       "    <tr>\n",
       "      <th>0</th>\n",
       "      <td>CCC(=O)C(O)=O</td>\n",
       "      <td>[5704, 4303]</td>\n",
       "    </tr>\n",
       "  </tbody>\n",
       "</table>\n",
       "</div>"
      ],
      "text/plain": [
       "          smiles            mz\n",
       "0  CCC(=O)C(O)=O  [5704, 4303]"
      ]
     },
     "metadata": {},
     "output_type": "display_data"
    }
   ],
   "source": [
    "display(moleculesDB)"
   ]
  },
  {
   "cell_type": "code",
   "execution_count": 20,
   "id": "f0accc05-7a04-42e5-ac92-7a79a91ec0cb",
   "metadata": {},
   "outputs": [
    {
     "data": {
      "text/html": [
       "<div>\n",
       "<style scoped>\n",
       "    .dataframe tbody tr th:only-of-type {\n",
       "        vertical-align: middle;\n",
       "    }\n",
       "\n",
       "    .dataframe tbody tr th {\n",
       "        vertical-align: top;\n",
       "    }\n",
       "\n",
       "    .dataframe thead th {\n",
       "        text-align: right;\n",
       "    }\n",
       "</style>\n",
       "<table border=\"1\" class=\"dataframe\">\n",
       "  <thead>\n",
       "    <tr style=\"text-align: right;\">\n",
       "      <th></th>\n",
       "      <th>smiles</th>\n",
       "      <th>name</th>\n",
       "      <th>spectrum</th>\n",
       "      <th>link</th>\n",
       "      <th>FinalVec</th>\n",
       "    </tr>\n",
       "  </thead>\n",
       "  <tbody>\n",
       "    <tr>\n",
       "      <th>0</th>\n",
       "      <td>CCC(=O)C(O)=O</td>\n",
       "      <td>2-Ketobutyric acid</td>\n",
       "      <td>[27.0, 28.0, 29.0, 30.0, 31.0, 39.0, 40.0, 41....</td>\n",
       "      <td>https://hmdb.ca/spectra/ms_ms/1473314</td>\n",
       "      <td>[-0.7609567642211914, -0.1555800437927246, -1....</td>\n",
       "    </tr>\n",
       "  </tbody>\n",
       "</table>\n",
       "</div>"
      ],
      "text/plain": [
       "          smiles                name  \\\n",
       "0  CCC(=O)C(O)=O  2-Ketobutyric acid   \n",
       "\n",
       "                                            spectrum  \\\n",
       "0  [27.0, 28.0, 29.0, 30.0, 31.0, 39.0, 40.0, 41....   \n",
       "\n",
       "                                    link  \\\n",
       "0  https://hmdb.ca/spectra/ms_ms/1473314   \n",
       "\n",
       "                                            FinalVec  \n",
       "0  [-0.7609567642211914, -0.1555800437927246, -1....  "
      ]
     },
     "metadata": {},
     "output_type": "display_data"
    }
   ],
   "source": [
    "display(dfMolecules)"
   ]
  },
  {
   "cell_type": "markdown",
   "id": "1f27b0f7",
   "metadata": {},
   "source": [
    "Add predicted to the molecules from the last dataset their respective spectrum:"
   ]
  },
  {
   "cell_type": "code",
   "execution_count": 21,
   "id": "c4e82c38",
   "metadata": {},
   "outputs": [],
   "source": [
    "dfMolecules_2 = dfMolecules.merge(moleculesDB, how='inner', on='smiles')"
   ]
  },
  {
   "cell_type": "code",
   "execution_count": 22,
   "id": "3cfb234f-62d5-4960-beff-b3eb9a3dcbab",
   "metadata": {},
   "outputs": [
    {
     "data": {
      "text/html": [
       "<div>\n",
       "<style scoped>\n",
       "    .dataframe tbody tr th:only-of-type {\n",
       "        vertical-align: middle;\n",
       "    }\n",
       "\n",
       "    .dataframe tbody tr th {\n",
       "        vertical-align: top;\n",
       "    }\n",
       "\n",
       "    .dataframe thead th {\n",
       "        text-align: right;\n",
       "    }\n",
       "</style>\n",
       "<table border=\"1\" class=\"dataframe\">\n",
       "  <thead>\n",
       "    <tr style=\"text-align: right;\">\n",
       "      <th></th>\n",
       "      <th>smiles</th>\n",
       "      <th>name</th>\n",
       "      <th>spectrum</th>\n",
       "      <th>link</th>\n",
       "      <th>FinalVec</th>\n",
       "      <th>mz</th>\n",
       "    </tr>\n",
       "  </thead>\n",
       "  <tbody>\n",
       "    <tr>\n",
       "      <th>0</th>\n",
       "      <td>CCC(=O)C(O)=O</td>\n",
       "      <td>2-Ketobutyric acid</td>\n",
       "      <td>[27.0, 28.0, 29.0, 30.0, 31.0, 39.0, 40.0, 41....</td>\n",
       "      <td>https://hmdb.ca/spectra/ms_ms/1473314</td>\n",
       "      <td>[-0.7609567642211914, -0.1555800437927246, -1....</td>\n",
       "      <td>[5704, 4303]</td>\n",
       "    </tr>\n",
       "  </tbody>\n",
       "</table>\n",
       "</div>"
      ],
      "text/plain": [
       "          smiles                name  \\\n",
       "0  CCC(=O)C(O)=O  2-Ketobutyric acid   \n",
       "\n",
       "                                            spectrum  \\\n",
       "0  [27.0, 28.0, 29.0, 30.0, 31.0, 39.0, 40.0, 41....   \n",
       "\n",
       "                                    link  \\\n",
       "0  https://hmdb.ca/spectra/ms_ms/1473314   \n",
       "\n",
       "                                            FinalVec            mz  \n",
       "0  [-0.7609567642211914, -0.1555800437927246, -1....  [5704, 4303]  "
      ]
     },
     "metadata": {},
     "output_type": "display_data"
    }
   ],
   "source": [
    "display(dfMolecules_2)"
   ]
  },
  {
   "cell_type": "code",
   "execution_count": 23,
   "id": "0e8fc78e-fd0e-49a1-9eba-018da65ba02e",
   "metadata": {},
   "outputs": [
    {
     "data": {
      "text/plain": [
       "'[27.0, 28.0, 29.0, 30.0, 31.0, 39.0, 40.0, 41.0, 42.0, 43.0, 44.0, 55.0, 56.0, 57.0, 85.0, 103.0]'"
      ]
     },
     "execution_count": 23,
     "metadata": {},
     "output_type": "execute_result"
    }
   ],
   "source": [
    "(dfMolecules_2.spectrum[0])"
   ]
  },
  {
   "cell_type": "markdown",
   "id": "687c7e4e",
   "metadata": {},
   "source": [
    "Save all the data in a .json file:"
   ]
  },
  {
   "cell_type": "code",
   "execution_count": 24,
   "id": "8325284c",
   "metadata": {},
   "outputs": [],
   "source": [
    "#Save the data in a .json file\n",
    "moleculesDB.to_json(r'results/predSpectra.json')"
   ]
  },
  {
   "cell_type": "markdown",
   "id": "af101216-3710-4e6d-8545-65c313ddd4be",
   "metadata": {},
   "source": [
    "## 2. SPECTRA RECONSTRUCTION"
   ]
  },
  {
   "cell_type": "markdown",
   "id": "5c395018-dae0-4fdb-a0d3-ef66d81732e9",
   "metadata": {},
   "source": [
    "### 2.1. Comparison of the real spectrum with the predicted"
   ]
  },
  {
   "cell_type": "markdown",
   "id": "a4d143ed-2025-4afb-b87f-3633d3adf97d",
   "metadata": {},
   "source": [
    "Binarization of the input spectra"
   ]
  },
  {
   "cell_type": "code",
   "execution_count": 25,
   "id": "ab2110cd-ef5e-4f23-b544-c9658529b7a9",
   "metadata": {},
   "outputs": [],
   "source": [
    "#Convert the spectrum values to floats\n",
    "for val, spectrum in enumerate(dfMolecules_2['spectrum']):\n",
    "    spectrumString = spectrum.replace('[', '')\n",
    "    spectrumString = spectrumString.replace(']', '')\n",
    "    spectrumString = spectrumString.split(',')\n",
    "    spectrumFloats = [float(i) for i in spectrumString]\n",
    "    dfMolecules_2['spectrum'][val] = spectrumFloats"
   ]
  },
  {
   "cell_type": "code",
   "execution_count": 26,
   "id": "3ffeee5c-1744-4c0c-b463-8e789d159b5d",
   "metadata": {},
   "outputs": [],
   "source": [
    "# Look for the max mz value\n",
    "mZ = []\n",
    "for listPeaks in dfMolecules_2['spectrum']:\n",
    "    mZ += [max(listPeaks)]\n",
    "max_mz = max(mZ)\n",
    "min_mz = 0"
   ]
  },
  {
   "cell_type": "code",
   "execution_count": 27,
   "id": "89c92d57-b8bd-4c5a-8b1c-f4561bab9e3c",
   "metadata": {},
   "outputs": [
    {
     "data": {
      "text/plain": [
       "103.0"
      ]
     },
     "execution_count": 27,
     "metadata": {},
     "output_type": "execute_result"
    }
   ],
   "source": [
    "max_mz"
   ]
  },
  {
   "cell_type": "code",
   "execution_count": 28,
   "id": "42bf65f7-f3bf-4125-b8b1-37e52c3a19a9",
   "metadata": {},
   "outputs": [
    {
     "name": "stdout",
     "output_type": "stream",
     "text": [
      "10301\n",
      "103.0\n"
     ]
    }
   ],
   "source": [
    "#Discretize mz of the spectra (bin = 0.01)\n",
    "min_mz = 0\n",
    "bins = np.arange(min_mz, max_mz + 0.01, 0.01) #bins from 0 to max_mz (5994)\n",
    "print(len(bins))\n",
    "print(max_mz)"
   ]
  },
  {
   "cell_type": "code",
   "execution_count": 29,
   "id": "7347d575-b4e2-47bd-988c-c30624f21055",
   "metadata": {},
   "outputs": [],
   "source": [
    "binsMZ100 = range(0,len(bins)+1)"
   ]
  },
  {
   "cell_type": "code",
   "execution_count": 30,
   "id": "7a05972a-bbad-42ac-b054-8c6acfef2b99",
   "metadata": {},
   "outputs": [],
   "source": [
    "#Loop to save in a vector the mz positions where the molecules present peak\n",
    "ListBins=[]\n",
    "for con,listMZ in enumerate(dfMolecules_2['spectrum']):   #list per raw\n",
    "    values = np.digitize(listMZ, bins)\n",
    "    ListBins += [values]\n",
    "dfMolecules_2['BinarSpectrum'] = ListBins"
   ]
  },
  {
   "cell_type": "code",
   "execution_count": 31,
   "id": "cc973777-e2b1-49d1-82e1-4dab095d5871",
   "metadata": {
    "scrolled": true
   },
   "outputs": [
    {
     "name": "stdout",
     "output_type": "stream",
     "text": [
      "[2904, 3903, 4104, 4105, 4204, 4302, 4303, 4306, 4405, 4406, 4504, 5002, 5101, 5103, 5202, 5203, 5204, 5301, 5302, 5303, 5304, 5305, 5404, 5405, 5502, 5503, 5505, 5506, 5594, 5602, 5605, 5606, 5697, 5698, 5702, 5704, 5705, 5706, 5707, 5708, 5799, 5803, 5807, 5900, 5903, 5905, 6000, 6005, 6101, 6102, 6103, 6198, 6202, 6303, 6402, 6403, 6404, 6501, 6502, 6503, 6504, 6505, 6601, 6603, 6604, 6605, 6702, 6703, 6705, 6706, 6802, 6803, 6804, 6805, 6806, 6898, 6900, 6901, 6902, 6904, 6905, 6906, 6907, 6908, 6999, 7003, 7007, 7100, 7102, 7105, 7106, 7107, 7109, 7205, 7209, 7294, 7299, 7303, 7307, 7402, 7501, 7502, 7503, 7602, 7603, 7604, 7701, 7702, 7703, 7704, 7705, 7804, 7805, 7902, 7903, 7905, 7906, 8002, 8003, 8005, 8006, 8007, 8102, 8104, 8105, 8106, 8107, 8108, 8199, 8203, 8204, 8205, 8206, 8207, 8208, 8300, 8302, 8303, 8305, 8306, 8307, 8309, 8405, 8409, 8499, 8502, 8503, 8504, 8507, 8511, 8602, 8606, 8607, 8610, 8703, 8705, 8802, 8804, 8808, 8903, 8904, 9004, 9005, 9102, 9105, 9106, 9203, 9204, 9205, 9206, 9207, 9298, 9300, 9302, 9304, 9305, 9306, 9307, 9308, 9403, 9404, 9405, 9407, 9408, 9500, 9502, 9503, 9505, 9506, 9507, 9509, 9601, 9603, 9604, 9605, 9606, 9609, 9699, 9702, 9703, 9704, 9705, 9707, 9708, 9711, 9802, 9804, 9806, 9807, 9810, 9898, 9899, 9900, 9901, 9902, 9903, 9905, 9909, 10002, 10004, 10008, 10102, 10103, 10104, 10106, 10204, 10205, 10206, 10303, 10304, 10305, 10306, 10403, 10405, 10406, 10407, 10504, 10505, 10506, 10507, 10508, 10603, 10604, 10605, 10606, 10607, 10608, 10702, 10703, 10704, 10705, 10706, 10707, 10708, 10709, 10801, 10803, 10804, 10805, 10806, 10809, 10899, 10902, 10903, 10904, 10905, 10906, 10907, 10908, 10910, 10911, 11002, 11004, 11006, 11007, 11008, 11010, 11100, 11101, 11103, 11105, 11108, 11109, 11112, 11202, 11204, 11208, 11302, 11303, 11304, 11306, 11310, 11404, 11405, 11410, 11504, 11505, 11506, 11508, 11604, 11605, 11606, 11607, 11694, 11699, 11704, 11705, 11706, 11707, 11708, 11803, 11805, 11806, 11807, 11808, 11902, 11904, 11905, 11906, 11907, 11908, 11909, 12003, 12004, 12005, 12006, 12007, 12009, 12102, 12103, 12104, 12105, 12106, 12107, 12108, 12109, 12110, 12111, 12201, 12202, 12204, 12206, 12207, 12208, 12210, 12211, 12300, 12301, 12302, 12303, 12304, 12305, 12307, 12308, 12309, 12312, 12400, 12402, 12403, 12404, 12406, 12408, 12412, 12501, 12502, 12503, 12504, 12506, 12507, 12510, 12602, 12604, 12605, 12606, 12702, 12704, 12705, 12706, 12708, 12804, 12805, 12806, 12807, 12902, 12904, 12905, 12906, 12907, 12908, 13003, 13004, 13005, 13006, 13007, 13008, 13104, 13105, 13106, 13107, 13108, 13109, 13203, 13205, 13206, 13207, 13208, 13209, 13210, 13303, 13304, 13305, 13306, 13307, 13308, 13309, 13310, 13311, 13404, 13405, 13406, 13407, 13408, 13410, 13411, 13503, 13504, 13505, 13506, 13507, 13508, 13509, 13512, 13602, 13603, 13604, 13605, 13606, 13608, 13609, 13702, 13703, 13704, 13705, 13706, 13707, 13710, 13714, 13802, 13803, 13804, 13805, 13806, 13807, 13810, 13900, 13901, 13903, 13904, 13905, 13906, 13908, 13912, 14004, 14005, 14006, 14007, 14102, 14103, 14105, 14106, 14107, 14108, 14205, 14206, 14207, 14208, 14304, 14305, 14306, 14307, 14308, 14309, 14405, 14406, 14407, 14408, 14409, 14410, 14503, 14504, 14505, 14506, 14507, 14508, 14509, 14510, 14511, 14603, 14604, 14606, 14607, 14608, 14610, 14611, 14704, 14705, 14706, 14707, 14708, 14709, 14712, 14804, 14805, 14806, 14807, 14808, 14809, 14812, 14902, 14903, 14904, 14905, 14906, 14907, 14908, 14910, 14914, 15002, 15003, 15004, 15005, 15006, 15007, 15010, 15104, 15105, 15106, 15108, 15112, 15115, 15202, 15205, 15206, 15207, 15208, 15302, 15303, 15305, 15306, 15307, 15308, 15310, 15313, 15403, 15404, 15405, 15407, 15408, 15505, 15506, 15507, 15508, 15509, 15605, 15606, 15607, 15608, 15609, 15610, 15703, 15705, 15706, 15707, 15708, 15709, 15710, 15711, 15804, 15806, 15807, 15808, 15810, 15811, 15905, 15906, 15907, 15908, 15909, 15910, 15912, 16004, 16006, 16008, 16009, 16012, 16013, 16103, 16104, 16105, 16106, 16107, 16108, 16109, 16110, 16114, 16204, 16205, 16206, 16207, 16210, 16304, 16305, 16306, 16307, 16308, 16312, 16315, 16404, 16405, 16406, 16407, 16408, 16502, 16503, 16505, 16506, 16507, 16508, 16510, 16513, 16603, 16605, 16606, 16607, 16608, 16609, 16704, 16705, 16706, 16707, 16708, 16709, 16711, 16806, 16807, 16808, 16809, 16810, 16905, 16906, 16907, 16908, 16909, 16910, 16911, 17006, 17007, 17008, 17010, 17011, 17103, 17105, 17106, 17107, 17108, 17109, 17110, 17112, 17204, 17206, 17208, 17209, 17212, 17213, 17303, 17306, 17307, 17309, 17310, 17314, 17404, 17405, 17406, 17407, 17410, 17411, 17504, 17505, 17506, 17507, 17508, 17512, 17515, 17605, 17607, 17608, 17705, 17706, 17707, 17708, 17710, 17713, 17717, 17805, 17806, 17807, 17808, 17904, 17905, 17906, 17907, 17908, 17909, 17911, 17915, 18006, 18007, 18008, 18009, 18010, 18105, 18106, 18107, 18108, 18109, 18110, 18111, 18206, 18207, 18208, 18209, 18210, 18211, 18303, 18305, 18307, 18308, 18309, 18310, 18312, 18406, 18408, 18409, 18412, 18413, 18506, 18507, 18508, 18509, 18510, 18514, 18606, 18607, 18610, 18611, 18704, 18706, 18708, 18712, 18715, 18805, 18807, 18808, 18906, 18907, 18908, 18910, 18913, 18917, 19007, 19008, 19104, 19107, 19108, 19109, 19111, 19115, 19118, 19206, 19207, 19209, 19210, 19305, 19307, 19308, 19309, 19310, 19311, 19313, 19406, 19407, 19408, 19409, 19410, 19411, 19505, 19506, 19507, 19508, 19509, 19510, 19511, 19512, 19606, 19608, 19609, 19613, 19706, 19707, 19708, 19709, 19710, 19714, 19807, 19810, 19811, 19904, 19908, 19912, 19915, 20005, 20007, 20008, 20106, 20107, 20108, 20110, 20113, 20117, 20207, 20208, 20209, 20304, 20307, 20308, 20309, 20311, 20315, 20318, 20406, 20407, 20409, 20410, 20505, 20507, 20508, 20509, 20511, 20513, 20516, 20520, 20608, 20609, 20610, 20611, 20707, 20708, 20709, 20710, 20711, 20712, 20714, 20806, 20808, 20809, 20812, 20906, 20907, 20909, 20910, 20914, 21007, 21010, 21011, 21104, 21108, 21112, 21115, 21205, 21209, 21306, 21307, 21308, 21310, 21313, 21317, 21407, 21504, 21507, 21508, 21509, 21511, 21515, 21518, 21607, 21609, 21705, 21709, 21711, 21713, 21716, 21720, 21808, 21809, 21810, 21907, 21909, 21910, 21911, 21912, 21914, 21918, 22008, 22009, 22106, 22109, 22110, 22114, 22207, 22210, 22211, 22307, 22308, 22312, 22315, 22409, 22506, 22510, 22513, 22517, 22607, 22608, 22707, 22708, 22711, 22715, 22718, 22905, 22908, 22909, 22913, 22916, 22920, 23010, 23107, 23109, 23111, 23114, 23118, 23309, 23310, 23316, 23508, 23512, 23515, 23706, 23708, 23710, 23713, 23717, 23807, 23907, 23908, 23911, 23915, 23918, 24008, 24091, 24105, 24109, 24113, 24116, 24120, 24206, 24307, 24311, 24314, 24318, 24509, 24913, 25108, 25111, 25115, 25118, 25305, 25309, 25313, 25316, 25320, 25507, 25511, 25514, 25518, 25709, 26509, 26707, 26711, 26714, 26905, 26909]\n"
     ]
    }
   ],
   "source": [
    "#MZ positions where we have model\n",
    "maxModels = 1000\n",
    "positionMZ = dfMostFreq100.mz[0:maxModels].tolist()\n",
    "positionMZ.sort()\n",
    "modelMZ = dfMostFreq100.posPeak[0:maxModels].tolist()\n",
    "modelMZ.sort()\n",
    "#Limit values to 2 decimals\n",
    "positionMZ = [ float(\"{:.2f}\".format(mz)) for mz in positionMZ ]\n",
    "print(modelMZ)"
   ]
  },
  {
   "cell_type": "code",
   "execution_count": 32,
   "id": "ba43d51a-99f5-4ce6-b6cb-a85fbf292140",
   "metadata": {},
   "outputs": [],
   "source": [
    "def spectrumReconstructionComparison(ax, positionMZ, realSpec, predSpec, colorReal1, colorReal2, colorPred):\n",
    "\n",
    "    #Divide values /100\n",
    "    realSpec2 = [ float(\"{:.2f}\".format(mz/100)) for mz in realSpec ]\n",
    "    predSpec2 = [ float(\"{:.2f}\".format(mz/100)) for mz in predSpec ]\n",
    "    \n",
    "    #Represent prediction peaks\n",
    "    for pos, mz in enumerate(realSpec2):\n",
    "        xpoints = np.array([mz, mz])\n",
    "        ypoints = np.array([0, 1])\n",
    "\n",
    "        if mz in positionMZ: #if we have model to predict this peak\n",
    "            if (pos == (len(realSpec2)-1)):\n",
    "                ax.plot(xpoints, ypoints, color = colorReal1,  label='Real spectra where model', linewidth=1)\n",
    "            else:\n",
    "                ax.plot(xpoints, ypoints, color = colorReal1, linewidth=1)\n",
    "        else: \n",
    "            if (pos == (len(realSpec2)-1)):\n",
    "                ax.plot(xpoints, ypoints, color = colorReal2,  label='Real spectra where no model', linewidth=1)\n",
    "            else:\n",
    "                ax.plot(xpoints, ypoints, color = colorReal2, linewidth=1)\n",
    "                \n",
    "    #Represent solution peaks\n",
    "    for pos, mz in enumerate(predSpec2):\n",
    "        xpoints = np.array([mz, mz])\n",
    "        ypoints = np.array([0, -1])\n",
    "        if (pos == (len(predSpec2)-1)):\n",
    "            ax.plot(xpoints, ypoints, color = colorPred,  label='PREDICTION', linewidth=1)\n",
    "        else:\n",
    "            ax.plot(xpoints, ypoints, color = colorPred, linewidth=1)"
   ]
  },
  {
   "cell_type": "code",
   "execution_count": 35,
   "id": "fea1d29b-dc12-4ce3-822f-a2e6964c6762",
   "metadata": {},
   "outputs": [],
   "source": [
    "zerosY = np.zeros((len(positionMZ),), dtype=int)\n",
    "spectrum_real = dfMolecules_2.BinarSpectrum[0]\n",
    "spectrum_pred = dfMolecules_2.mz[0]"
   ]
  },
  {
   "cell_type": "code",
   "execution_count": 53,
   "id": "96d272ec-a42d-4a3a-8a84-04bf1e95e74e",
   "metadata": {},
   "outputs": [
    {
     "data": {
      "image/png": "[encoded data removed]",
      "text/plain": [
       "<Figure size 1200x800 with 1 Axes>"
      ]
     },
     "metadata": {},
     "output_type": "display_data"
    }
   ],
   "source": [
    "plt.close('all')\n",
    "fig = plt.figure(figsize=(12,8))\n",
    "ax1 = fig.add_subplot(111)\n",
    "\n",
    "#Add a grey line in every m/z position where we have a trained model\n",
    "ax1.scatter(x= positionMZ, y = zerosY, marker='|', color = \"#bdbdbd\")            \n",
    "#We paint the peaks from the experimental spectrum in light blue if we don't have a model that can predict them, and in dark blue if we do have a model. \n",
    "spectrumReconstructionComparison(ax1, positionMZ, spectrum_real, spectrum_pred, colorReal1 = \"#08306b\", colorReal2 = \"#a6bddb\", colorPred = \"#dd1c77\")\n",
    "ax1.text(1,1,  'ARUS',  fontsize= 18, fontweight = 'bold', color = \"#08306b\", horizontalalignment='right',  transform=ax1.transAxes)\n",
    "ax1.text(1,0, 'Prediction',  fontsize= 18, fontweight = 'bold', color = \"#dd1c77\", horizontalalignment='right',  transform=ax1.transAxes)\n",
    "ax1.set(yticklabels=[]) \n",
    "ax1.set_ylabel('Peak presence/absence')\n",
    "ax1.spines['bottom'].set_position('center')\n",
    "ax1.set_xticks([0, 50, 150, 250, 350])\n",
    "ax1.set_xticklabels(['   0', '   50','    150', '    250', '    350'])\n",
    "ax1.set_xlabel('m/z', x= 1.07, labelpad = -15)\n",
    "\n",
    "sns.despine()\n",
    "plt.tight_layout()\n",
    "plt.show()"
   ]
  }
 ],
 "metadata": {
  "kernelspec": {
   "display_name": "Python 3 (ipykernel)",
   "language": "python",
   "name": "python3"
  },
  "language_info": {
   "codemirror_mode": {
    "name": "ipython",
    "version": 3
   },
   "file_extension": ".py",
   "mimetype": "text/x-python",
   "name": "python",
   "nbconvert_exporter": "python",
   "pygments_lexer": "ipython3",
   "version": "3.8.19"
  }
 },
 "nbformat": 4,
 "nbformat_minor": 5
}
